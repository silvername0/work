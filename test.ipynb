{
  "metadata": {
    "kernelspec": {
      "name": "python",
      "display_name": "Python (Pyodide)",
      "language": "python"
    },
    "language_info": {
      "codemirror_mode": {
        "name": "python",
        "version": 3
      },
      "file_extension": ".py",
      "mimetype": "text/x-python",
      "name": "python",
      "nbconvert_exporter": "python",
      "pygments_lexer": "ipython3",
      "version": "3.8"
    }
  },
  "nbformat_minor": 4,
  "nbformat": 4,
  "cells": [
    {
      "cell_type": "code",
      "source": "# Импортирование необходимых библиотек\nimport pandas as pd\n\n# Загрузка данных из CSV файла\ndata = pd.read_csv('data.csv')\n\n# Рассчет метрик\ndata['Delivery Rate'] = (data['Доставлено'] / data['Отправлено']) * 100\ndata['Open Rate'] = (data['Открытия'] / data['Доставлено']) * 100\ndata['Click to Open Rate'] = (data['Клики'] / data['Открытия']) * 100\ndata['Unsubscribe Rate'] = (data['Отписки'] / data['Отправлено']) * 100\n\n# Создание таблицы метрик\nmetrics_table = data[['День недели', 'Тема письма ',  'Delivery Rate', 'Open Rate', 'Click to Open Rate', 'Unsubscribe Rate']]\n\n# Отображение таблицы метрик\nfrom IPython.display import display\ndisplay(metrics_table)\n",
      "metadata": {
        "trusted": true,
        "tags": [],
        "editable": true,
        "slideshow": {
          "slide_type": ""
        }
      },
      "outputs": [],
      "execution_count": null
    },
    {
      "cell_type": "code",
      "source": "# Вычисление лучшей темы для рассылки\nbest_subject = data.groupby('Тема письма ')['Open Rate'].mean().idxmax() # Ищем тему письма с максимальным средним значением Open Rate\nbest_subject_rate = data.groupby('Тема письма ')['Open Rate'].mean().max() # Ищем самый высокий средний показатель Open Rate для темы письма\n\n# Вычисление лечшего дня недели для рассылки\nbest_day = data.groupby('День недели')['Open Rate'].mean().idxmax() # Ищем день недели с максимальным средним значением Open Rate\nbest_day_rate = data.groupby('День недели')['Open Rate'].mean().max() # Ищем самый высокий средний показатель Open Rate из дней недели\n\nweek = ['0','понедельник', 'вторник', 'среда', 'четверг', 'пятница', 'суббота', 'воскресенье']\n\nprint(f\"Лучшая тема для рассылки: {best_subject} с Open Rate {best_subject_rate:.2f}%\")\nprint(f\"Лучший день недели для рассылки: {week[best_day]} с Open Rate {best_day_rate:.2f}%\")",
      "metadata": {
        "trusted": true
      },
      "outputs": [],
      "execution_count": null
    },
    {
      "cell_type": "code",
      "source": "",
      "metadata": {
        "trusted": true,
        "tags": [],
        "editable": true,
        "slideshow": {
          "slide_type": ""
        }
      },
      "outputs": [],
      "execution_count": null
    }
  ]
}